{
 "cells": [
  {
   "cell_type": "markdown",
   "id": "1dd1ebca-9ffd-407a-a28b-99c68563dc97",
   "metadata": {},
   "source": [
    "#### Aluna: Camilla Balliana "
   ]
  },
  {
   "cell_type": "code",
   "execution_count": 1,
   "id": "17039333-17b8-40e8-9d91-c7b06f5932be",
   "metadata": {},
   "outputs": [
    {
     "ename": "ModuleNotFoundError",
     "evalue": "No module named 'zeros'",
     "output_type": "error",
     "traceback": [
      "\u001b[0;31m---------------------------------------------------------------------------\u001b[0m",
      "\u001b[0;31mModuleNotFoundError\u001b[0m                       Traceback (most recent call last)",
      "Cell \u001b[0;32mIn[1], line 2\u001b[0m\n\u001b[1;32m      1\u001b[0m \u001b[38;5;28;01mimport\u001b[39;00m \u001b[38;5;21;01mpandas\u001b[39;00m \u001b[38;5;28;01mas\u001b[39;00m \u001b[38;5;21;01mpd\u001b[39;00m\n\u001b[0;32m----> 2\u001b[0m \u001b[38;5;28;01mimport\u001b[39;00m \u001b[38;5;21;01mnumpy\u001b[39;00m \u001b[38;5;28;01mas\u001b[39;00m \u001b[38;5;21;01mnp\u001b[39;00m\u001b[38;5;241m,\u001b[39m \u001b[38;5;21;01mzeros\u001b[39;00m\u001b[38;5;241m,\u001b[39m \u001b[38;5;21;01marray\u001b[39;00m\u001b[38;5;241m,\u001b[39m \u001b[38;5;21;01mcopy\u001b[39;00m\n\u001b[1;32m      3\u001b[0m \u001b[38;5;28;01mimport\u001b[39;00m \u001b[38;5;21;01mmatplotlib\u001b[39;00m\u001b[38;5;21;01m.\u001b[39;00m\u001b[38;5;21;01mpyplot\u001b[39;00m \u001b[38;5;28;01mas\u001b[39;00m \u001b[38;5;21;01mplt\u001b[39;00m\n\u001b[1;32m      4\u001b[0m \u001b[38;5;28;01mfrom\u001b[39;00m \u001b[38;5;21;01mmath\u001b[39;00m \u001b[38;5;28;01mimport\u001b[39;00m\u001b[38;5;241m*\u001b[39m\n",
      "\u001b[0;31mModuleNotFoundError\u001b[0m: No module named 'zeros'"
     ]
    }
   ],
   "source": [
    "import pandas as pd\n",
    "import numpy as np, zeros, array, copy\n",
    "import matplotlib.pyplot as plt\n",
    "from math import*\n",
    "from pylab import plot,show\n",
    "%matplotlib inline"
   ]
  },
  {
   "cell_type": "markdown",
   "id": "5f2e160f-8aaf-4623-8d58-d045ec478a11",
   "metadata": {},
   "source": [
    "## Questão 1"
   ]
  },
  {
   "cell_type": "markdown",
   "id": "2fd00813-8eb5-4138-b936-54dbde0e4d29",
   "metadata": {},
   "source": [
    "$$\n",
    "\\frac{V_2-V_0}{R} + \\frac{V_2-V_4}{R} + \\frac{V_2-V_1}{R} = 0\n",
    "$$\n",
    "$$\n",
    "-V_1 + 3V_2 + 0V_3 - V_4 = 0\n",
    "$$\n",
    "$$\n",
    "\\frac{V_3-V_4}{R} + \\frac{V_3-V_1}{R} + \\frac{V_3-V_+}{R} = 0\n",
    "$$\n",
    "$$\n",
    "-V_1 + 0V_2 + 3V_3 - V_4 = V_+\n",
    "$$\n",
    "$$\n",
    "\\frac{V_4-V_0}{R} + \\frac{V_4-V_1}{R} + \\frac{V_4-V_3}{R} + \\frac{V_4-V_2}{R}= 0\n",
    "$$\n",
    "$$\n",
    "-V_1 - 0V_2 - V_3 + 4V_4 = 0\n",
    "$$"
   ]
  },
  {
   "cell_type": "code",
   "execution_count": 3,
   "id": "666d0d06-a570-4b3a-8cde-3684eaf9ed8f",
   "metadata": {},
   "outputs": [],
   "source": [
    "#b)\n",
    "A = np.array([[4, -1, -1, -1], [-1, 3, 0, -1],[-1, 0, 3, -1],[-1, -1, -1, 4]], float)\n",
    "v = np.array([5, 0, 5, 0], float)\n",
    "N = len(v)\n",
    "x = np.zeros(N)"
   ]
  },
  {
   "cell_type": "code",
   "execution_count": 4,
   "id": "5edb8cd3-4a00-4a4d-8416-d8819a146bce",
   "metadata": {},
   "outputs": [
    {
     "name": "stdout",
     "output_type": "stream",
     "text": [
      "[[ 4. -1. -1. -1.]\n",
      " [-1.  3.  0. -1.]\n",
      " [-1.  0.  3. -1.]\n",
      " [-1. -1. -1.  4.]]\n",
      "[[ 1.   -0.25 -0.25 -0.25]\n",
      " [ 0.    2.75 -0.25 -1.25]\n",
      " [ 0.   -0.25  2.75 -1.25]\n",
      " [ 0.   -1.25 -1.25  3.75]]\n",
      "[[ 1.         -0.25       -0.25       -0.25      ]\n",
      " [ 0.          1.         -0.09090909 -0.45454545]\n",
      " [ 0.          0.          2.72727273 -1.36363636]\n",
      " [ 0.          0.         -1.36363636  3.18181818]]\n",
      "[[ 1.         -0.25       -0.25       -0.25      ]\n",
      " [ 0.          1.         -0.09090909 -0.45454545]\n",
      " [ 0.          0.          1.         -0.5       ]\n",
      " [ 0.          0.          0.          2.5       ]]\n",
      "[[ 1.         -0.25       -0.25       -0.25      ]\n",
      " [ 0.          1.         -0.09090909 -0.45454545]\n",
      " [ 0.          0.          1.         -0.5       ]\n",
      " [ 0.          0.          0.          1.        ]]\n",
      "[1.25       0.45454545 2.33333333 2.        ]\n"
     ]
    }
   ],
   "source": [
    "for i in range(N):\n",
    "    print(A)\n",
    "    v[i] = v[i]/A[i,i]\n",
    "    A[i,:] = A[i,:]/A[i,i]\n",
    "    \n",
    "    for j in range(i+1,N):\n",
    "        mult = -(A[j,i])\n",
    "        A[j,:] = A[j,:] + mult*A[i,:]\n",
    "        v[j] = v[j] + mult*v[i]\n",
    "print(A)\n",
    "print(v)\n",
    "\n",
    "for i in range(N-1,-1,-1): # Fase da substituição retrocedida\n",
    "    x[i] = v[i]\n",
    "    for j in range(i+1,N):\n",
    "        x[i] -= A[i,j]*x[j] "
   ]
  },
  {
   "cell_type": "code",
   "execution_count": 12,
   "id": "90ba4536-7cfa-4c2a-8c93-91c5a9d1ff47",
   "metadata": {},
   "outputs": [
    {
     "name": "stdout",
     "output_type": "stream",
     "text": [
      "Solução método da eliminação de gauss [3.         1.66666667 3.33333333 2.        ].\n",
      "Método linalg [3.         1.66666667 3.33333333 2.        ].\n"
     ]
    }
   ],
   "source": [
    "#c)\n",
    "xl = np.linalg.solve(A,v)\n",
    "print(f\"Solução método da eliminação de gauss {x}.\")\n",
    "print(f\"Método utilizando o linalg {xl}.\")"
   ]
  },
  {
   "cell_type": "markdown",
   "id": "03bc2424-1cde-4255-a018-50849c5cd666",
   "metadata": {},
   "source": [
    "## Questão 2"
   ]
  },
  {
   "cell_type": "code",
   "execution_count": 14,
   "id": "dfa630df-9fe5-4d12-a673-05efbc8bdb13",
   "metadata": {},
   "outputs": [
    {
     "name": "stdout",
     "output_type": "stream",
     "text": [
      "[[ 2.  1.  4.  1.]\n",
      " [ 3.  4. -1. -1.]\n",
      " [ 1. -4.  1.  5.]\n",
      " [ 2. -2.  1.  3.]]\n",
      "[[ 1.   0.5  2.   0.5]\n",
      " [ 0.   2.5 -7.  -2.5]\n",
      " [ 0.  -4.5 -1.   4.5]\n",
      " [ 0.  -3.  -3.   2. ]]\n",
      "[[  1.    0.5   2.    0.5]\n",
      " [  0.    1.   -2.8  -1. ]\n",
      " [  0.    0.  -13.6   0. ]\n",
      " [  0.    0.  -11.4  -1. ]]\n",
      "[[ 1.   0.5  2.   0.5]\n",
      " [ 0.   1.  -2.8 -1. ]\n",
      " [-0.  -0.   1.  -0. ]\n",
      " [ 0.   0.   0.  -1. ]]\n",
      "[[ 1.   0.5  2.   0.5]\n",
      " [ 0.   1.  -2.8 -1. ]\n",
      " [-0.  -0.   1.  -0. ]\n",
      " [-0.  -0.  -0.   1. ]]\n",
      "[-2.   3.6 -2.   1. ]\n",
      "A solução será: [ 2. -1. -2.  1.]\n"
     ]
    }
   ],
   "source": [
    "A = np.array([[2, 1, 4, 1],[3, 4, -1, -1],[1, -4, 1, 5],[2, -2, 1, 3]], float) #primeira matriz\n",
    "v = np.array([-4, 3, 9, 7], float) #solução da primeira matriz\n",
    "N = len(v)\n",
    "x = np.zeros(N)\n",
    "\n",
    "for i in range(N):\n",
    "    print(A)\n",
    "    v[i] = v[i]/A[i,i]\n",
    "    A[i,:] = A[i,:]/A[i,i]\n",
    "    \n",
    "    for j in range(i+1,N):\n",
    "        mult = -(A[j,i])\n",
    "        A[j,:] = A[j,:] + mult*A[i,:]\n",
    "        v[j] = v[j] + mult*v[i]\n",
    "print(A)\n",
    "print(v)\n",
    "\n",
    "for i in range(N-1,-1,-1):\n",
    "    x[i] = v[i]\n",
    "    for j in range(i+1,N):\n",
    "        x[i] -= A[i,j]*x[j] \n",
    "\n",
    "print(f\"A solução será: {x}\")"
   ]
  },
  {
   "cell_type": "code",
   "execution_count": 19,
   "id": "3e09a62a-96aa-45a6-a6a9-0b4bbf1cccd2",
   "metadata": {},
   "outputs": [
    {
     "name": "stdout",
     "output_type": "stream",
     "text": [
      "[[ 1.          1.33333333 -0.33333333 -0.33333333]\n",
      " [ 0.          1.          4.          1.        ]\n",
      " [ 0.          0.          1.          0.47058824]\n",
      " [ 0.          0.          0.          1.        ]]\n",
      "[[ 1.          1.33333333 -0.33333333 -0.33333333]\n",
      " [ 0.          1.          4.          1.        ]\n",
      " [ 0.          0.          1.          0.47058824]\n",
      " [ 0.          0.          0.          1.        ]]\n",
      "[[ 1.          1.33333333 -0.33333333 -0.33333333]\n",
      " [ 0.          1.          4.          1.        ]\n",
      " [ 0.          0.          1.          0.47058824]\n",
      " [ 0.          0.          0.          1.        ]]\n",
      "[[ 1.          1.33333333 -0.33333333 -0.33333333]\n",
      " [ 0.          1.          4.          1.        ]\n",
      " [ 0.          0.          1.          0.47058824]\n",
      " [ 0.          0.          0.          1.        ]]\n",
      "[[ 1.          1.33333333 -0.33333333 -0.33333333]\n",
      " [ 0.          1.          4.          1.        ]\n",
      " [ 0.          0.          1.          0.47058824]\n",
      " [ 0.          0.          0.          1.        ]]\n",
      "[-4.  3.  9.  7.]\n",
      "A solução é: [109. -16. -26.   7.]\n",
      "A segunda solução é: [ 36.         -26.82352941   5.70588235   7.        ]\n"
     ]
    }
   ],
   "source": [
    "#segundo sistema\n",
    "M = np.array([[0, 1, 4, 1],[3, 4, -1, -1],[1, -4, 1, 5],[2, -2, 1, 3]], float)\n",
    "v = np.array([-4, 3, 9, 7], float)\n",
    "N = len(v)\n",
    "x = np.zeros(N)\n",
    "\n",
    "for i in range(N):\n",
    "    print(A)\n",
    "    if(A[i,i]==0):\n",
    "        \n",
    "        temp2 = 0\n",
    "        for q in range(N):\n",
    "            if(temp2<abs(A[q,i])):\n",
    "                temp2 = A[q, i]\n",
    "                t = q\n",
    "        for j in range(N):        \n",
    "            temp=A[t,j]    \n",
    "            A[t, j] = A[i, j]\n",
    "            A[i,j] = temp\n",
    "        \n",
    "        temp = v[i]\n",
    "        v[i]=v[t]\n",
    "        v[t] = temp\n",
    "        print(A)\n",
    "        \n",
    "    v[i] = v[i]/A[i,i]\n",
    "    A[i,:] = A[i,:]/A[i,i]\n",
    "        \n",
    "        \n",
    "    for j in range(i+1,N):\n",
    "        mult = -(A[j,i])\n",
    "        A[j,:] = A[j,:] + mult*A[i,:]\n",
    "        v[j] = v[j] + mult*v[i]\n",
    "print(A)\n",
    "print(v)\n",
    "\n",
    "for i in range(N-1,-1,-1):\n",
    "    x[i] = v[i]\n",
    "    for j in range(i+1,N):\n",
    "        x[i] -= M[i,j]*x[j]\n",
    "\n",
    "x1 = np.linalg.solve(A,v)\n",
    "print(f\"A solução é: {x}\")\n",
    "print(f\"A segunda solução é: {x1}\")"
   ]
  },
  {
   "cell_type": "markdown",
   "id": "76e583eb-8285-43cd-9a2c-79074ad734e2",
   "metadata": {},
   "source": [
    "## Questão 3"
   ]
  },
  {
   "cell_type": "code",
   "execution_count": 50,
   "id": "3f1cb73a-7e52-4945-8537-050858ba9883",
   "metadata": {},
   "outputs": [
    {
     "name": "stdout",
     "output_type": "stream",
     "text": [
      "[[ 2.  1.  4.  1.]\n",
      " [ 3.  4. -1. -1.]\n",
      " [ 1. -4.  1.  5.]\n",
      " [ 2. -2.  1.  3.]]\n",
      "[[ 1.   0.5  2.   0.5]\n",
      " [ 0.   2.5 -7.  -2.5]\n",
      " [ 0.  -4.5 -1.   4.5]\n",
      " [ 0.  -3.  -3.   2. ]]\n",
      "[[  1.    0.5   2.    0.5]\n",
      " [  0.    1.   -2.8  -1. ]\n",
      " [  0.    0.  -13.6   0. ]\n",
      " [  0.    0.  -11.4  -1. ]]\n",
      "[[ 1.   0.5  2.   0.5]\n",
      " [ 0.   1.  -2.8 -1. ]\n",
      " [-0.  -0.   1.  -0. ]\n",
      " [ 0.   0.   0.  -1. ]]\n",
      "As matrizes L e U são, respectivamente:\n",
      "\n",
      "[[  2.    0.    0.    0. ]\n",
      " [  3.    2.5   0.    0. ]\n",
      " [  1.   -4.5 -13.6   0. ]\n",
      " [  2.   -3.  -11.4  -1. ]]\n",
      "\n",
      "[[ 1.   0.5  2.   0.5]\n",
      " [ 0.   1.  -2.8 -1. ]\n",
      " [-0.  -0.   1.  -0. ]\n",
      " [-0.  -0.  -0.   1. ]]\n"
     ]
    }
   ],
   "source": [
    "#a)\n",
    "\n",
    "A = np.array([[2, 1, 4, 1],[3, 4, -1, -1],[1, -4, 1, 5],[2, -2, 1, 3]], float) #matriz A\n",
    "v = np.array([-4, 3, 9, 7])\n",
    "\n",
    "N = len(A)\n",
    "L = np.zeros((N,N))\n",
    "cont = 0\n",
    "    \n",
    "for i in range(N):\n",
    "    print(A)\n",
    "    for j in range(cont,N):\n",
    "        L[j][i] = A[j][i]\n",
    "            \n",
    "    A[i,:] = A[i,:]/A[i,i]\n",
    "\n",
    "    for j in range(i+1,N):\n",
    "        mult = -(A[j,i])\n",
    "        A[j,:] = A[j,:] + mult*A[i,:]\n",
    "            \n",
    "    cont = cont + 1\n",
    "U = A\n",
    "\n",
    "Z = np.zeros((N,N))\n",
    "    \n",
    "for i in range(N):\n",
    "    for j in range(N):\n",
    "        temp = 0\n",
    "        for k in range(N):\n",
    "                temp = temp +  L[i][k]*U[k][j]\n",
    "                Z[i][j] = temp\n",
    "\n",
    "print(f\"As matrizes L e U são, respectivamente:\")\n",
    "print(f\"\\n{L}\\n\")\n",
    "print(U)"
   ]
  },
  {
   "cell_type": "code",
   "execution_count": 51,
   "id": "7b92a94a-e8e9-431e-9dd7-e2298e435321",
   "metadata": {},
   "outputs": [
    {
     "name": "stdout",
     "output_type": "stream",
     "text": [
      "As soluções serão: [-2.   3.6 -2.   1. ] \n",
      " e [-2.   3.6 -2.   1. ] \n"
     ]
    }
   ],
   "source": [
    "#b)\n",
    "v = np.array([-4, 3, 9, 7])\n",
    "y = np.zeros(N)\n",
    "\n",
    "for k in range(N):\n",
    "    y[k] = v[k]/L[k][k]\n",
    "    for q in range(k-1, -1, -1):\n",
    "        y[k] = y[k] - (L[k][q]*y[q])/L[k][k]\n",
    "y\n",
    "\n",
    "x = np.zeros(N)\n",
    "for k in range(N-1, -1, -1):\n",
    "    x[k] = y[k]\n",
    "    for q in range(k+1, N):\n",
    "        x[k] = x[k] - M[k][q]*x[q]\n",
    "x\n",
    "\n",
    "sx = np.linalg.solve(L,v)\n",
    "sy = np.linalg.solve(M, y)\n",
    "print(f\"As soluções serão: {sx} \\n e {sx} \")"
   ]
  },
  {
   "cell_type": "markdown",
   "id": "e7b76fb7-a7c6-48bb-a2fb-c5efb4578b25",
   "metadata": {},
   "source": [
    "## Questão 4"
   ]
  },
  {
   "cell_type": "code",
   "execution_count": 42,
   "id": "63383610-5fb0-4e8a-b210-b563b338bf03",
   "metadata": {},
   "outputs": [
    {
     "name": "stdout",
     "output_type": "stream",
     "text": [
      "As voltagens serão V_1 = [3.7254902  3.43137255 2.74509804 2.25490196 1.56862745 1.2745098 ] V\n",
      "As voltagens serão V_2 = [3.7254902  3.43137255 2.74509804 2.25490196 1.56862745 1.2745098 ] V\n",
      "As voltagens serão V_3 = [3.7254902  3.43137255 2.74509804 2.25490196 1.56862745 1.2745098 ] V\n",
      "As voltagens serão V_4 = [3.7254902  3.43137255 2.74509804 2.25490196 1.56862745 1.2745098 ] V\n",
      "As voltagens serão V_5 = [3.7254902  3.43137255 2.74509804 2.25490196 1.56862745 1.2745098 ] V\n",
      "As voltagens serão V_6 = [3.7254902  3.43137255 2.74509804 2.25490196 1.56862745 1.2745098 ] V\n"
     ]
    },
    {
     "data": {
      "image/png": "[encoded data removed]",
      "text/plain": [
       "<Figure size 640x480 with 1 Axes>"
      ]
     },
     "metadata": {},
     "output_type": "display_data"
    }
   ],
   "source": [
    "#a)\n",
    "A = array([[3, -1, -1, 0, 0, 0],[-1, 4, -1, -1, 0, 0],[-1, -1, 4, -1, -1, 0],[0, -1, -1, 4, -1, -1],[0, 0, -1, -1, 4, -1], [0, 0, 0, -1, -1, 3]],float)\n",
    "v = array([5,5,0,0,0,0], float)\n",
    "N = len(v)\n",
    "x = zeros(N)\n",
    "\n",
    "for i in range(N):\n",
    "    for k in range(i+1,N):\n",
    "        if abs(A[k,i]) > abs(A[i,i]):\n",
    "            vet = copy(A[k,:])\n",
    "            A[k,:]=A[i,:]\n",
    "            A[i,:]=vet\n",
    "            a = v[i]\n",
    "            v[i]=v[k]\n",
    "            v[k]=a\n",
    "    v[i] = v[i]/A[i,i]\n",
    "    A[i,:] = A[i,:]/A[i,i]\n",
    "    for j in range(i+1,N):\n",
    "        mult = -(A[j,i])\n",
    "        A[j,:] = A[j,:] + mult*A[i,:]\n",
    "        v[j] = v[j] + mult*v[i]\n",
    "for i in range(N-1,-1,-1):\n",
    "    x[i] = v[i]\n",
    "    for j in range(i+1,N):\n",
    "        x[i] -= A[i,j]*x[j]\n",
    "        \n",
    "for i in range(N):\n",
    "    print(f\"As voltagens serão V_{i+1} = {x} V\")\n",
    "    \n",
    "plt.plot(range(1, N+1), x, 'o-')\n",
    "plt.xlabel('Nó (i)')\n",
    "plt.ylabel('V')\n",
    "plt.title('Voltagens nos nós do circuito', size = 9)\n",
    "plt.grid(True)\n",
    "plt.show()"
   ]
  },
  {
   "cell_type": "code",
   "execution_count": 43,
   "id": "f6c07ff0-7f9d-4c55-a4c5-dce020a6b911",
   "metadata": {
    "scrolled": true
   },
   "outputs": [
    {
     "name": "stdout",
     "output_type": "stream",
     "text": [
      "As voltagens nas junções são:\n",
      "V_1 = 3.73 V\n",
      "V_2 = 3.43 V\n",
      "V_3 = 2.75 V\n",
      "V_4 = 2.25 V\n",
      "V_5 = 1.57 V\n",
      "V_6 = 1.27 V\n"
     ]
    }
   ],
   "source": [
    "#b)\n",
    "def resistores_val(N, V_):\n",
    "    A = np.zeros((N, N))\n",
    "    w = np.zeros(N)\n",
    "\n",
    "    \n",
    "    for i in range(N):\n",
    "        if i == 0:\n",
    "            A[i, i] = 3\n",
    "            A[i, i+1] = -1\n",
    "            A[i, i+2] = -1\n",
    "            w[i] = V_\n",
    "        elif i == 1:\n",
    "            A[i, i-1] = -1\n",
    "            A[i, i] = 4\n",
    "            A[i, i+1] = -1\n",
    "            A[i, i+2] = -1\n",
    "            w[i] = V_\n",
    "        elif i == N-1:\n",
    "            A[i, i-2] = -1\n",
    "            A[i, i-1] = -1\n",
    "            A[i, i] = 3\n",
    "        elif i == N-2:\n",
    "            A[i, i-2] = -1\n",
    "            A[i, i-1] = -1\n",
    "            A[i, i] = 4\n",
    "            A[i, i+1] = -1\n",
    "        else:\n",
    "            A[i, i-2] = -1\n",
    "            A[i, i-1] = -1\n",
    "            A[i, i] = 4\n",
    "            A[i, i+1] = -1\n",
    "            A[i, i+2] = -1\n",
    "\n",
    "    x = np.linalg.solve(A, w)\n",
    "\n",
    "    return x\n",
    "\n",
    "N = 6 \n",
    "\n",
    "resistores = resistores_val(N, 5)\n",
    "\n",
    "print(\"As voltagens nas junções são:\")\n",
    "for i, x in enumerate(resistores, start=1):\n",
    "    print(f\"V_{i} = {x:.2f} V\")"
   ]
  },
  {
   "cell_type": "code",
   "execution_count": 35,
   "id": "982272b6-cd3a-4e07-9cdf-0ffce01a40b7",
   "metadata": {},
   "outputs": [
    {
     "data": {
      "image/png": "[encoded data removed]",
      "text/plain": [
       "<Figure size 640x480 with 1 Axes>"
      ]
     },
     "metadata": {},
     "output_type": "display_data"
    },
    {
     "name": "stdout",
     "output_type": "stream",
     "text": [
      "[[-1. -1. -1. ... -1. -1. -1.]\n",
      " [-1. -1. -1. ... -1. -1. -1.]\n",
      " [ 3.  4.  4. ...  4.  4.  3.]\n",
      " [-1. -1. -1. ... -1. -1. -1.]\n",
      " [-1. -1. -1. ... -1. -1. -1.]]\n",
      "As voltagens serão:[4.99888228e+00 4.99861842e+00 4.99802841e+00 ... 1.97158611e-03\n",
      " 1.38158071e-03 1.11772227e-03]\n"
     ]
    }
   ],
   "source": [
    "#c)\n",
    "N = 10000\n",
    "\n",
    "A = np.zeros([5, N], float)\n",
    "for i in range(N):\n",
    "    A[0, i] = -1\n",
    "    A[1, i] = -1\n",
    "    A[2, i] = 4\n",
    "    A[3, i] = -1\n",
    "    A[4, i] = -1\n",
    "\n",
    "A[2, 0] = 3\n",
    "A[2, N - 1] = 3\n",
    "\n",
    "v = np.zeros(N, float)\n",
    "v[0], v[1] = 5, 5\n",
    "\n",
    "x = banded(A, v, 2, 2)\n",
    "\n",
    "plt.plot(x)\n",
    "plt.ylabel('V')\n",
    "plt.show()\n",
    "\n",
    "print(A)\n",
    "print(f\"As voltagens serão:{x}\")"
   ]
  }
 ],
 "metadata": {
  "kernelspec": {
   "display_name": "Python 3 (ipykernel)",
   "language": "python",
   "name": "python3"
  },
  "language_info": {
   "codemirror_mode": {
    "name": "ipython",
    "version": 3
   },
   "file_extension": ".py",
   "mimetype": "text/x-python",
   "name": "python",
   "nbconvert_exporter": "python",
   "pygments_lexer": "ipython3",
   "version": "3.11.7"
  }
 },
 "nbformat": 4,
 "nbformat_minor": 5
}
