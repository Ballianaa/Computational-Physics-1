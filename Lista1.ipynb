{
 "cells": [
  {
   "cell_type": "code",
   "execution_count": 1,
   "id": "f42822ef-947c-48bb-b7d1-687758c85505",
   "metadata": {},
   "outputs": [],
   "source": [
    "import numpy as np\n",
    "import pandas as pd\n",
    "from math import sqrt\n",
    "import matplotlib.pyplot as plt"
   ]
  },
  {
   "cell_type": "code",
   "execution_count": 2,
   "id": "0da9ef17-eab3-431c-be58-4e31a08d24fe",
   "metadata": {},
   "outputs": [],
   "source": [
    "%matplotlib inline"
   ]
  },
  {
   "cell_type": "markdown",
   "id": "58abd5fa-f2a7-4f4f-960f-9e67e57e8efe",
   "metadata": {},
   "source": [
    "### Questão 1"
   ]
  },
  {
   "cell_type": "code",
   "execution_count": 3,
   "id": "707a6858-e53c-4f40-9780-540c3aa46e44",
   "metadata": {},
   "outputs": [
    {
     "name": "stdin",
     "output_type": "stream",
     "text": [
      "Digite um número inteiro: 3\n"
     ]
    },
    {
     "name": "stdout",
     "output_type": "stream",
     "text": [
      "O fatorial de 3 é: 6\n"
     ]
    }
   ],
   "source": [
    "def fatorial(x):\n",
    "    if x == 0:\n",
    "        return 1\n",
    "    else:\n",
    "        return x * fatorial(x - 1)\n",
    "\n",
    "n = int(input(\"Digite um número inteiro:\")) \n",
    "\n",
    "print(\"O fatorial de\", n, \"é:\", fatorial(n))\n"
   ]
  },
  {
   "cell_type": "markdown",
   "id": "bf45f4d0-c3fa-435a-a74d-18457ca5be77",
   "metadata": {},
   "source": [
    "Agora com um ponto flutuante:"
   ]
  },
  {
   "cell_type": "code",
   "execution_count": 4,
   "id": "8a34a798-7cfc-40f2-b675-289c5447592d",
   "metadata": {
    "scrolled": true
   },
   "outputs": [
    {
     "name": "stdin",
     "output_type": "stream",
     "text": [
      "Digite um número inteiro: 3\n"
     ]
    },
    {
     "name": "stdout",
     "output_type": "stream",
     "text": [
      "O fatorial de 3.0 é: 6.0\n"
     ]
    }
   ],
   "source": [
    "def fatorial_float(x):\n",
    "    if x == 0:\n",
    "        return 1.0\n",
    "    else:\n",
    "        return x * fatorial(x - 1)\n",
    "\n",
    "n = float(input(\"Digite um número inteiro:\")) \n",
    "\n",
    "print(\"O fatorial de\", n, \"é:\", fatorial_float(n))"
   ]
  },
  {
   "cell_type": "markdown",
   "id": "5bbe10e0-9d27-4fc8-97c1-df61004e7cc5",
   "metadata": {},
   "source": [
    "Como vimos no primeiro ex. o resultado é um número muito extenso, então quando o transformamos para um ponto flutuante, sobrepassa o limite de números que são armazenados na mantissa, não sendo possível ter uma precisão."
   ]
  },
  {
   "cell_type": "markdown",
   "id": "3b2781b0-0167-41a1-8a5b-58b16f75ff1d",
   "metadata": {},
   "source": [
    "### Questão 2"
   ]
  },
  {
   "cell_type": "code",
   "execution_count": 6,
   "id": "5f3aecc0-d4a5-4142-a63b-8c71b38bcb44",
   "metadata": {},
   "outputs": [
    {
     "name": "stdin",
     "output_type": "stream",
     "text": [
      "Digite 3 números inteiros: 0,001\n"
     ]
    },
    {
     "ename": "ValueError",
     "evalue": "could not convert string to float: '0,001'",
     "output_type": "error",
     "traceback": [
      "\u001b[0;31m---------------------------------------------------------------------------\u001b[0m",
      "\u001b[0;31mValueError\u001b[0m                                Traceback (most recent call last)",
      "Cell \u001b[0;32mIn[6], line 3\u001b[0m\n\u001b[1;32m      1\u001b[0m \u001b[38;5;66;03m#a)\u001b[39;00m\n\u001b[0;32m----> 3\u001b[0m a \u001b[38;5;241m=\u001b[39m \u001b[38;5;28mfloat\u001b[39m(\u001b[38;5;28minput\u001b[39m(\u001b[38;5;124m\"\u001b[39m\u001b[38;5;124mDigite 3 números inteiros:\u001b[39m\u001b[38;5;124m\"\u001b[39m))\n\u001b[1;32m      4\u001b[0m b \u001b[38;5;241m=\u001b[39m \u001b[38;5;28mfloat\u001b[39m(\u001b[38;5;28minput\u001b[39m(\u001b[38;5;124m\"\u001b[39m\u001b[38;5;124m:\u001b[39m\u001b[38;5;124m\"\u001b[39m))\n\u001b[1;32m      5\u001b[0m c \u001b[38;5;241m=\u001b[39m \u001b[38;5;28mfloat\u001b[39m(\u001b[38;5;28minput\u001b[39m(\u001b[38;5;124m\"\u001b[39m\u001b[38;5;124m:\u001b[39m\u001b[38;5;124m\"\u001b[39m))\n",
      "\u001b[0;31mValueError\u001b[0m: could not convert string to float: '0,001'"
     ]
    }
   ],
   "source": [
    "#a)\n",
    "\n",
    "a = float(input(\"Digite 3 números inteiros:\"))\n",
    "b = float(input(\":\"))\n",
    "c = float(input(\":\"))\n",
    "\n",
    "def funcao_quadratica(a,b,c):\n",
    "    \n",
    "    x_1 = (-b + sqrt((b**2) - 4*a*c))/2*a\n",
    "    \n",
    "    x_2 = (-b - sqrt((b**2) - 4*a*c))/2*a\n",
    "    \n",
    "    return x_1,x_2\n",
    "\n",
    "print(funcao_quadratica(a,b,c))\n"
   ]
  },
  {
   "cell_type": "code",
   "execution_count": null,
   "id": "1b4a902e-1390-4883-901d-33626b0b73c8",
   "metadata": {},
   "outputs": [],
   "source": [
    "#b)\n",
    "\n",
    "d = float(input(\"Digite 3 números inteiros:\"))\n",
    "e = float(input(\":\"))\n",
    "f = float(input(\":\"))\n",
    "\n",
    "def funcao_quadratica2(d,e,f):\n",
    "    \n",
    "    x_l = 2*f/(-e + sqrt((e**2) - 4*d*f))\n",
    "    \n",
    "    x_ll = 2*f/(-e - sqrt((e**2) - 4*d*f))\n",
    "    \n",
    "    return x_l,x_ll\n",
    "\n",
    "print(funcao_quadratica2(d,e,f))"
   ]
  },
  {
   "cell_type": "code",
   "execution_count": 7,
   "id": "24920754-3308-4b93-83b5-1217fdfcf2ea",
   "metadata": {},
   "outputs": [
    {
     "name": "stdout",
     "output_type": "stream",
     "text": [
      "(-1000010.5755125057, -1.000000000001e-06)\n"
     ]
    }
   ],
   "source": [
    "#c)\n",
    "\n",
    "import cmath \n",
    "\n",
    "def funcao_quadratica_geral(a, b, c):\n",
    "    \n",
    "    x_1 = 2*c/(-b + sqrt((b**2) - 4*a*c))\n",
    "    \n",
    "    x_2 = 2*c/(-b - sqrt((b**2) - 4*a*c))\n",
    "    \n",
    "    return x_1, x_2\n",
    "\n",
    "a = 0.001\n",
    "b = 1000\n",
    "c = 0.001\n",
    "\n",
    "print(funcao_quadratica_geral(a,b,c))\n"
   ]
  },
  {
   "cell_type": "markdown",
   "id": "02495ceb-3126-47b5-82d5-f36e83672832",
   "metadata": {},
   "source": [
    "### Questão 3"
   ]
  },
  {
   "cell_type": "markdown",
   "id": "2f9e71e7-e334-4eaa-85b3-78a6e8dd6546",
   "metadata": {},
   "source": [
    "#### a)"
   ]
  },
  {
   "cell_type": "code",
   "execution_count": 8,
   "id": "9fb329d0-60c1-4f0b-a0e4-e95f00690852",
   "metadata": {},
   "outputs": [],
   "source": [
    "def f(x):\n",
    "    return x * (x - 1)"
   ]
  },
  {
   "cell_type": "code",
   "execution_count": 9,
   "id": "ed147a4d-f20b-4155-a663-34274c48f741",
   "metadata": {},
   "outputs": [
    {
     "name": "stdout",
     "output_type": "stream",
     "text": [
      "Pela fórmula a derivada é: 1.010000000000001\n"
     ]
    }
   ],
   "source": [
    "x = 1\n",
    "delta = 1e-2\n",
    "derived = (f(x + delta) - f(x)) / delta\n",
    "\n",
    "print('Pela fórmula a derivada é:', derived)\n"
   ]
  },
  {
   "cell_type": "markdown",
   "id": "85683fa3-5a67-4b5c-9e16-c8e2ad2cd0e4",
   "metadata": {},
   "source": [
    "Derivando f(x) analiticamente temos: x² - x  \n",
    "f'(x) = 2x - 1 \n",
    "f'(x=1) = 1"
   ]
  },
  {
   "cell_type": "markdown",
   "id": "5fb42426-4c9f-4fbc-ad09-f6ab527d7bd2",
   "metadata": {},
   "source": [
    "O erro acontece pois quando estamos calculando a derivada numericamente, \n",
    "aproximamos o delta em um número pequeno, porém finito. Logo, as aproximações \n",
    "vão resultar em um erro, e quanto menor for o valor do delta, menor será o erro.\n"
   ]
  },
  {
   "cell_type": "markdown",
   "id": "08e53623-38d9-4cfa-8990-9d6c3c5aa3b2",
   "metadata": {},
   "source": [
    "Preferível fazer a separação por fatias h/2[(f(a) + f(a+h))/2 + .....]"
   ]
  },
  {
   "cell_type": "markdown",
   "id": "22ecc057-942a-479c-bd98-5c671d28467a",
   "metadata": {},
   "source": [
    "#### b)"
   ]
  },
  {
   "cell_type": "code",
   "execution_count": 10,
   "id": "db8f0849-3156-4d42-ab93-47305baa9b41",
   "metadata": {},
   "outputs": [
    {
     "name": "stdout",
     "output_type": "stream",
     "text": [
      "A derivada com δ =  0.0001 é: 1.0000999999998899\n",
      "A derivada com δ =  1e-06 é: 1.0000009999177333\n",
      "A derivada com δ =  1e-08 é: 1.0000000039225287\n",
      "A derivada com δ =  1e-10 é: 1.000000082840371\n",
      "A derivada com δ =  1e-12 é: 1.0000889005833413\n",
      "A derivada com δ =  1e-14 é: 0.9992007221626509\n"
     ]
    }
   ],
   "source": [
    "delta = [1e-4, 1e-6, 1e-8, 1e-10, 1e-12, 1e-14]\n",
    "\n",
    "for y in delta:\n",
    "    derivada = (f(x + y) - f(x)) / y\n",
    "    print ('A derivada com δ = ', y,  'é:', derivada)"
   ]
  },
  {
   "cell_type": "markdown",
   "id": "aa1df0db-e5df-4ea6-8714-aa2634ee8632",
   "metadata": {},
   "source": [
    "Os valores começaram a dar errado novamente, pois excedemos o limite de números\n",
    "na mantissa, o que levará a somar erros novamente."
   ]
  },
  {
   "cell_type": "markdown",
   "id": "573b8f4b-db31-4641-b20e-00a65b3265f4",
   "metadata": {},
   "source": [
    "### Questão 4"
   ]
  },
  {
   "cell_type": "markdown",
   "id": "0cde2c4a-67b8-4f5e-a0c3-18d297b011ac",
   "metadata": {},
   "source": [
    "### a)"
   ]
  },
  {
   "cell_type": "code",
   "execution_count": 11,
   "id": "52cafc55-431b-45f2-ab78-fb2b843b968e",
   "metadata": {},
   "outputs": [
    {
     "name": "stdout",
     "output_type": "stream",
     "text": [
      "    tempo(s)  velocidade(m/s)\n",
      "0          1         0.069478\n",
      "1          2         0.137694\n",
      "2          3         0.204332\n",
      "3          4         0.269083\n",
      "4          5         0.331656\n",
      "..       ...              ...\n",
      "95        96         0.223073\n",
      "96        97         0.254244\n",
      "97        98         0.283753\n",
      "98        99         0.311479\n",
      "99       100         0.337308\n",
      "\n",
      "[100 rows x 2 columns]\n"
     ]
    }
   ],
   "source": [
    "data = pd.read_csv('velocities.txt', delimiter= '\\t')\n",
    "data = pd.DataFrame(data)\n",
    "data = data.rename(columns={'0': 'tempo(s)', '0.1': 'velocidade(m/s)'})\n",
    "data\n",
    "\n",
    "print(data)"
   ]
  },
  {
   "cell_type": "code",
   "execution_count": 12,
   "id": "a2aac8e0-ea76-4ef0-b9d1-79cf4f0c8277",
   "metadata": {},
   "outputs": [
    {
     "data": {
      "text/plain": [
       "Text(0.5, 0, 'tempo(s)')"
      ]
     },
     "execution_count": 12,
     "metadata": {},
     "output_type": "execute_result"
    },
    {
     "data": {
      "image/png": "[encoded data removed]",
      "text/plain": [
       "<Figure size 500x400 with 1 Axes>"
      ]
     },
     "metadata": {},
     "output_type": "display_data"
    }
   ],
   "source": [
    "fig = plt.figure(figsize = (5,4))\n",
    "\n",
    "t = data['tempo(s)']\n",
    "v = data['velocidade(m/s)']\n",
    "\n",
    "plt.plot(t,v)\n",
    "plt.ylabel('velocidade(m/s)')\n",
    "plt.xlabel('tempo(s)')"
   ]
  },
  {
   "cell_type": "markdown",
   "id": "2008dcc0-ca8f-4b7d-a2fc-757908b06633",
   "metadata": {},
   "source": [
    "### b)"
   ]
  },
  {
   "cell_type": "code",
   "execution_count": 13,
   "id": "9a708cf2-a9cc-4529-a11b-1d51216b316b",
   "metadata": {},
   "outputs": [
    {
     "data": {
      "text/html": [
       "<div>\n",
       "<style scoped>\n",
       "    .dataframe tbody tr th:only-of-type {\n",
       "        vertical-align: middle;\n",
       "    }\n",
       "\n",
       "    .dataframe tbody tr th {\n",
       "        vertical-align: top;\n",
       "    }\n",
       "\n",
       "    .dataframe thead th {\n",
       "        text-align: right;\n",
       "    }\n",
       "</style>\n",
       "<table border=\"1\" class=\"dataframe\">\n",
       "  <thead>\n",
       "    <tr style=\"text-align: right;\">\n",
       "      <th></th>\n",
       "      <th>tempo(s)</th>\n",
       "      <th>velocidade(m/s)</th>\n",
       "      <th>posição</th>\n",
       "    </tr>\n",
       "  </thead>\n",
       "  <tbody>\n",
       "    <tr>\n",
       "      <th>0</th>\n",
       "      <td>1</td>\n",
       "      <td>0.069478</td>\n",
       "      <td>0.069478</td>\n",
       "    </tr>\n",
       "    <tr>\n",
       "      <th>1</th>\n",
       "      <td>2</td>\n",
       "      <td>0.137694</td>\n",
       "      <td>0.275388</td>\n",
       "    </tr>\n",
       "    <tr>\n",
       "      <th>2</th>\n",
       "      <td>3</td>\n",
       "      <td>0.204332</td>\n",
       "      <td>0.612996</td>\n",
       "    </tr>\n",
       "    <tr>\n",
       "      <th>3</th>\n",
       "      <td>4</td>\n",
       "      <td>0.269083</td>\n",
       "      <td>1.076332</td>\n",
       "    </tr>\n",
       "    <tr>\n",
       "      <th>4</th>\n",
       "      <td>5</td>\n",
       "      <td>0.331656</td>\n",
       "      <td>1.658280</td>\n",
       "    </tr>\n",
       "    <tr>\n",
       "      <th>...</th>\n",
       "      <td>...</td>\n",
       "      <td>...</td>\n",
       "      <td>...</td>\n",
       "    </tr>\n",
       "    <tr>\n",
       "      <th>95</th>\n",
       "      <td>96</td>\n",
       "      <td>0.223073</td>\n",
       "      <td>21.415008</td>\n",
       "    </tr>\n",
       "    <tr>\n",
       "      <th>96</th>\n",
       "      <td>97</td>\n",
       "      <td>0.254244</td>\n",
       "      <td>24.661668</td>\n",
       "    </tr>\n",
       "    <tr>\n",
       "      <th>97</th>\n",
       "      <td>98</td>\n",
       "      <td>0.283753</td>\n",
       "      <td>27.807794</td>\n",
       "    </tr>\n",
       "    <tr>\n",
       "      <th>98</th>\n",
       "      <td>99</td>\n",
       "      <td>0.311479</td>\n",
       "      <td>30.836421</td>\n",
       "    </tr>\n",
       "    <tr>\n",
       "      <th>99</th>\n",
       "      <td>100</td>\n",
       "      <td>0.337308</td>\n",
       "      <td>33.730800</td>\n",
       "    </tr>\n",
       "  </tbody>\n",
       "</table>\n",
       "<p>100 rows × 3 columns</p>\n",
       "</div>"
      ],
      "text/plain": [
       "    tempo(s)  velocidade(m/s)    posição\n",
       "0          1         0.069478   0.069478\n",
       "1          2         0.137694   0.275388\n",
       "2          3         0.204332   0.612996\n",
       "3          4         0.269083   1.076332\n",
       "4          5         0.331656   1.658280\n",
       "..       ...              ...        ...\n",
       "95        96         0.223073  21.415008\n",
       "96        97         0.254244  24.661668\n",
       "97        98         0.283753  27.807794\n",
       "98        99         0.311479  30.836421\n",
       "99       100         0.337308  33.730800\n",
       "\n",
       "[100 rows x 3 columns]"
      ]
     },
     "execution_count": 13,
     "metadata": {},
     "output_type": "execute_result"
    }
   ],
   "source": [
    "aceleracao = (0.337308 - 0.069478)/100\n",
    "data['posição'] = v * t\n",
    "data"
   ]
  },
  {
   "cell_type": "markdown",
   "id": "846f7e27-f9c3-4db5-80d6-1719ae3d6253",
   "metadata": {},
   "source": [
    "Usando a regra do trapézio:"
   ]
  },
  {
   "cell_type": "code",
   "execution_count": 14,
   "id": "692a058c-8ac8-45a8-91c2-bb2cc17e2145",
   "metadata": {},
   "outputs": [
    {
     "name": "stdout",
     "output_type": "stream",
     "text": [
      "Distância percorrida: 6.94780000000001\n"
     ]
    }
   ],
   "source": [
    "v_i = 0.069478\n",
    "def f(t):\n",
    "    return v_i + a * t\n",
    "\n",
    "a = 0\n",
    "b = 100\n",
    "N = 99\n",
    "\n",
    "h = (b-a)/N\n",
    "soma = (f(a)+f(b))/2\n",
    "for k in range(1,N):\n",
    "    soma = soma + f(a+k*h)\n",
    "\n",
    "print('Distância percorrida:', h*soma)"
   ]
  },
  {
   "cell_type": "markdown",
   "id": "93367069-0150-4987-ab0b-d3052e0ba1ce",
   "metadata": {},
   "source": [
    "### Questão 5"
   ]
  },
  {
   "cell_type": "markdown",
   "id": "afb45d06-4ff2-4dd8-a814-d898cd62a4b2",
   "metadata": {},
   "source": [
    "### a)"
   ]
  },
  {
   "cell_type": "code",
   "execution_count": 15,
   "id": "1afa0dac-0083-464b-8add-1576b905a86c",
   "metadata": {},
   "outputs": [
    {
     "name": "stdout",
     "output_type": "stream",
     "text": [
      "Pela regra do Trapézio: 4.50656 \n",
      "Simpson: 4.079861332265822\n"
     ]
    }
   ],
   "source": [
    "def f(x):\n",
    "    return x**4 - 2*x + 1\n",
    "\n",
    "a = 0\n",
    "b = 2\n",
    "soma = 0\n",
    "n = 10\n",
    "h = (b - a) / n\n",
    "\n",
    "# Regra do trapézio\n",
    "for k in range(1, n):\n",
    "    xk = a + k * h\n",
    "    soma = soma + f(xk)\n",
    "\n",
    "integral_t = h * ((f(a) + f(b)) / 2 + soma)\n",
    "\n",
    "# Regra de Simpson\n",
    "delta = 1e-4\n",
    "\n",
    "def derivada(delt, x):\n",
    "    return (f(x + delt) - f(x)) / delt\n",
    "\n",
    "term = derivada(delta, a) - derivada(delta, b)\n",
    "integral_s = integral_t + (1/3) * (h**2) * term\n",
    "ndez = integral_s\n",
    "\n",
    "print(\"Pela regra do Trapézio:\", integral_t , \"\\nSimpson:\", integral_s)"
   ]
  },
  {
   "cell_type": "markdown",
   "id": "d2e7d887-393a-4e19-b8f9-e205ddada49e",
   "metadata": {},
   "source": [
    "### b)"
   ]
  },
  {
   "cell_type": "code",
   "execution_count": 16,
   "id": "4b390a67-6a0a-4fd0-8f23-e4906c7b16cf",
   "metadata": {},
   "outputs": [
    {
     "name": "stdout",
     "output_type": "stream",
     "text": [
      "Erro fracional com n = 10:\n",
      " 0.07275878812140413\n"
     ]
    }
   ],
   "source": [
    "integral_s_n10 = ndez\n",
    "# Calculando o erro fracional\n",
    "erro = abs(integral_s_n10 - 4.4) / 4.4\n",
    "print(\"Erro fracional com n = 10:\\n\", erro)"
   ]
  },
  {
   "cell_type": "markdown",
   "id": "e6a8be0b-7afe-4457-b994-eb8ba0b6197d",
   "metadata": {},
   "source": [
    "### c)"
   ]
  },
  {
   "cell_type": "code",
   "execution_count": 20,
   "id": "186ddc7e-9002-4792-868b-9545171eea93",
   "metadata": {},
   "outputs": [
    {
     "name": "stdout",
     "output_type": "stream",
     "text": [
      "Com 100 fatias:  4.396799669322658\n"
     ]
    }
   ],
   "source": [
    "#Com n = 100\n",
    "a = 0\n",
    "b = 2\n",
    "soma = 0\n",
    "n = 100\n",
    "h = (b - a) / n\n",
    "\n",
    "# Regra do trapézio\n",
    "for k in range(1, n):\n",
    "    xk = a + k * h\n",
    "    soma = soma + f(xk)\n",
    "\n",
    "integral_t = h * ((f(a) + f(b)) / 2 + soma)\n",
    "\n",
    "# Regra de Simpson\n",
    "delta = 1e-4\n",
    "\n",
    "def derivada(delt, x):\n",
    "    return (f(x + delt) - f(x)) / delt\n",
    "\n",
    "term = derivada(delta, a) - derivada(delta, b)\n",
    "integral_s = integral_t + (1/3) * (h**2) * term\n",
    "\n",
    "ncem = integral_s\n",
    "print(\"Com 100 fatias: \", ncem)"
   ]
  },
  {
   "cell_type": "code",
   "execution_count": 21,
   "id": "f8cbaf12-2fec-41bc-9700-c7287800576a",
   "metadata": {},
   "outputs": [
    {
     "name": "stdout",
     "output_type": "stream",
     "text": [
      "Com 1000 fatias:  4.399967996798827\n"
     ]
    }
   ],
   "source": [
    "a = 0\n",
    "b = 2\n",
    "soma = 0\n",
    "n = 1000\n",
    "h = (b - a) / n\n",
    "\n",
    "# Regra do trapézio\n",
    "for k in range(1, n):\n",
    "    xk = a + k * h\n",
    "    soma = soma + f(xk)\n",
    "\n",
    "integral_t = h * ((f(a) + f(b)) / 2 + soma)\n",
    "\n",
    "# Regra de Simpson\n",
    "delta = 1e-4\n",
    "\n",
    "def derivada(delt, x):\n",
    "    return (f(x + delt) - f(x)) / delt\n",
    "\n",
    "term = derivada(delta, a) - derivada(delta, b)\n",
    "integral_s = integral_t + (1/3) * (h**2) * term\n",
    "\n",
    "nmil = integral_s\n",
    "print(\"Com 1000 fatias: \", nmil)"
   ]
  },
  {
   "cell_type": "code",
   "execution_count": 22,
   "id": "e3587b29-162f-4b27-a0e5-c2c18aebdb71",
   "metadata": {},
   "outputs": [
    {
     "name": "stdout",
     "output_type": "stream",
     "text": [
      "Erro fracional com n = 100: 0.0007273478812141011\n",
      "Erro fracional com n = 1000: 7.273454812177378e-06\n"
     ]
    }
   ],
   "source": [
    "integral_s_n100 = ncem\n",
    "integral_s_n1000 = nmil\n",
    "\n",
    "erro2 = abs(integral_s_n100 - 4.4) / 4.4\n",
    "print(\"Erro fracional com n = 100:\", erro2)\n",
    "\n",
    "erro3 = abs(integral_s_n1000 - 4.4) / 4.4\n",
    "print(\"Erro fracional com n = 1000:\", erro3)"
   ]
  },
  {
   "cell_type": "code",
   "execution_count": 23,
   "id": "2daa8b3c-6a0b-4688-9948-594b88912bb2",
   "metadata": {},
   "outputs": [
    {
     "name": "stdout",
     "output_type": "stream",
     "text": [
      "Resultados- regra do trapézio, regra do simpson com 10 fatias, 100 e 1000 respectivamente:\n",
      " 4.4000106666656 \n",
      " 4.079861332265822 \n",
      " 4.396799669322658 \n",
      " 4.399967996798827\n"
     ]
    }
   ],
   "source": [
    "print('Resultados- regra do trapézio, regra do simpson com 10 fatias, 100 e 1000 respectivamente:\\n', integral_t,'\\n', ndez,'\\n', ncem,'\\n', nmil)"
   ]
  },
  {
   "cell_type": "markdown",
   "id": "d16c01f5-e773-4208-b536-234e15175094",
   "metadata": {},
   "source": [
    "Por estes resultados, vemos que a integral que mais se aproxima do resultado analítico é a regra de Simpson com n =1000. Porém, embora o resultado mais aproximado fosse da Regra do Simpson com 1000 fatias, a regra do trapézio mostrou-se melhor no resultado aproximado em comparação com a do Simpson para 10 e 100 fatias.\n",
    "\n",
    "Além disso, vimos que na Regra de Simpson, quanto mais aumentamos o número de fatias, mais nos aproximamos do resultado analítico, sendo necessário um trabalho maior para o computador fazer os cálculos."
   ]
  },
  {
   "cell_type": "code",
   "execution_count": null,
   "id": "215c6267-955b-463a-85e6-ab037f0136dc",
   "metadata": {},
   "outputs": [],
   "source": []
  }
 ],
 "metadata": {
  "kernelspec": {
   "display_name": "Python 3 (ipykernel)",
   "language": "python",
   "name": "python3"
  },
  "language_info": {
   "codemirror_mode": {
    "name": "ipython",
    "version": 3
   },
   "file_extension": ".py",
   "mimetype": "text/x-python",
   "name": "python",
   "nbconvert_exporter": "python",
   "pygments_lexer": "ipython3",
   "version": "3.11.7"
  }
 },
 "nbformat": 4,
 "nbformat_minor": 5
}
